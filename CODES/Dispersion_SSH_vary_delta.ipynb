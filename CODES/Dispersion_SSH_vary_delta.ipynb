{
 "cells": [
  {
   "cell_type": "markdown",
   "id": "c5d3ebe0",
   "metadata": {
    "id": "c5d3ebe0"
   },
   "source": [
    "# Dispersion of SSH model\n",
    "\n",
    "The SSH Hamiltonian can be written as\n",
    "$\\sum_{i=1}^{L-1} (t+\\delta)c^\\dagger_{A\\,i} c_{B\\,i} + \\sum_i (t-\\delta)c^\\dagger_{A\\,i+1} c_{B\\,i}+\\text{h.c}$.\n",
    "\n",
    "In the reciprocal space, the entire Hamiltonian can be written in the compact or generic $2\\times 2$ matrix form:\n",
    "${\\bf H}(k) = {\\vec d}(k).{\\vec\\sigma}$ where $d_x(k)=(t+\\delta)+(t-\\delta)\\cos ka$; $d_y(k)=(t-\\delta)\\sin ka$.\n",
    "\n",
    "Such $2\\times 2$ matrix form mimicks a two-level system and by solving the eigenvalue or characteristic equation,\n",
    "we get the energy dispersion:\n",
    "$E(k) = \\pm 2\\sqrt{\\delta^2+ 2 (t^2-\\delta^2)\\cos^2(k/2)}$\n",
    "\n",
    "We plot this dispersion function with tuning parameter $\\delta$ below. Slide the $\\delta$-slider to see how $E(k)$-plot evolves."
   ]
  },
  {
   "cell_type": "code",
   "execution_count": 1,
   "id": "d1944aba",
   "metadata": {
    "colab": {
     "base_uri": "https://localhost:8080/",
     "height": 993,
     "referenced_widgets": [
      "aabae7e18a7a4c23bfe4edbac6eeb0f8",
      "41ce772465de4f37be5da01739238ef5",
      "65e72a10dcaa4fdea2604909c43e0962",
      "c5951bc97c65494c9e6b2eb67d7430ff",
      "c7c0a8a40fad439d858c5d6cfc3b13ec",
      "7c4578d1e39b474b96c82d5b8bfc7a3b",
      "8a50769ebaf04c7baa88637d20746618",
      "5d8786c9270645e89d44474d075d5d38",
      "ff36d5a8b96642bd91162c72b1f7cc31",
      "3c9367f1820c4cfab04d749801b4f540",
      "153e750fdaa4463d8ae82e6dfad933a6",
      "706bf97c452849e8bc625cf7ab29dadf",
      "d3a0bff2c2bc45b89c22808992b1953f",
      "e8acb4a9fe3a4b2c8b48062f9279245e"
     ]
    },
    "id": "d1944aba",
    "outputId": "306e55b1-eb23-498d-cd3c-423a6252fbbc"
   },
   "outputs": [
    {
     "data": {
      "text/plain": [
       "<Figure size 640x480 with 0 Axes>"
      ]
     },
     "metadata": {},
     "output_type": "display_data"
    },
    {
     "data": {
      "application/vnd.jupyter.widget-view+json": {
       "model_id": "a62c28c94e904882a32875c7d7dff603",
       "version_major": 2,
       "version_minor": 0
      },
      "text/plain": [
       "interactive(children=(FloatSlider(value=0.0, description='δ', max=1.0, min=-1.0), Output()), _dom_classes=('wi…"
      ]
     },
     "metadata": {},
     "output_type": "display_data"
    },
    {
     "data": {
      "application/vnd.jupyter.widget-view+json": {
       "model_id": "45a1c1839e594827b9bb5c153585f488",
       "version_major": 2,
       "version_minor": 0
      },
      "text/plain": [
       "interactive(children=(FloatSlider(value=0.0, description='δ', max=1.0, min=-1.0), Output()), _dom_classes=('wi…"
      ]
     },
     "metadata": {},
     "output_type": "display_data"
    },
    {
     "data": {
      "text/plain": [
       "<function __main__.plot_dk(delt)>"
      ]
     },
     "execution_count": 1,
     "metadata": {},
     "output_type": "execute_result"
    }
   ],
   "source": [
    "# CODE:\n",
    "\n",
    "import numpy as np\n",
    "import matplotlib.pyplot as plt\n",
    "from matplotlib import rc\n",
    "\n",
    "from ipywidgets import interact\n",
    "from ipywidgets import FloatSlider #, Label\n",
    "\n",
    "\n",
    "t = 1.0\n",
    "\n",
    "# Function to be plotted\n",
    "def Ekp(k,delt):\n",
    "    return 2*np.sqrt( (delt*t)**2 + (t+delt)*(t-delt)*(np.cos(k*0.5))**2 )\n",
    "def Ekm(k,delt):\n",
    "    return -2*np.sqrt( (delt*t)**2 + (t+delt)*(t-delt)*(np.cos(k*0.5))**2 )\n",
    "\n",
    "\n",
    "plt.clf()\n",
    "grid_size = 0.01\n",
    "k_grid = np.arange(-np.pi, np.pi, grid_size)\n",
    "\n",
    "def plot_disp(delt):\n",
    "    plt.plot(k_grid, Ekp(k_grid, delt), '-r', label='$E_+$')\n",
    "    plt.plot(k_grid, Ekm(k_grid, delt), '-b', label='$E_-$')\n",
    "    plt.xlabel('$k$', size=20)\n",
    "    plt.legend(loc='best', fontsize=15)\n",
    "    if delt > 0:\n",
    "      plt.text(0, 0, \"$\\delta>0$, $v<w$, $\\\\nu=1$\", ha=\"center\", va=\"center\", size=20, bbox=bbox_props)\n",
    "    elif delt < 0:\n",
    "      plt.text(0, 0, \"$\\delta<0$, $v>w$, $\\\\nu=0$\", ha=\"center\", va=\"center\", size=20, bbox=bbox_props)\n",
    "    else:\n",
    "      plt.text(0, 0, \"$\\delta=0$, $v=w$, $\\\\nu=?$\", ha=\"center\", va=\"center\", size=20, bbox=bbox_props)\n",
    "    plt.show()\n",
    "\n",
    "bbox_props = dict(boxstyle=\"round\", fc=\"silver\", ec=\"0.5\", alpha=0.5)\n",
    "\n",
    "interact(plot_disp, delt=FloatSlider(description=u'\\u03B4', min=-1, max=1, value=0))\n",
    "\n",
    "\n",
    "def dk(k,delt):\n",
    "    return [(t-delt)+(t+delt)*np.cos(k),(t+delt)*np.sin(k),0]\n",
    "\n",
    "\n",
    "def plot_dk(delt):\n",
    "    dx, dy = dk(k_grid, delt)[:2]\n",
    "    plt.xlabel('$d_x$', size=20)\n",
    "    plt.ylabel('$d_y$', size=20)\n",
    "    plt.xlim(-2.1, 2.1)\n",
    "    plt.ylim(-2.1, 2.1)\n",
    "    plt.plot([-2, 2], [0, 0], '-', color='grey')\n",
    "    plt.plot([0, 0], [-2, 2], '-', color='grey')\n",
    "    plt.plot(dx, dy, '-', linewidth=3, color='dodgerblue')\n",
    "    if delt > 0:\n",
    "      plt.text(-1, 1, \"$\\delta>0$, $v<w$, $\\\\nu=1$\", ha=\"center\", va=\"center\", size=18, bbox=bbox_props)\n",
    "    elif delt < 0:\n",
    "      plt.text(-1, 1, \"$\\delta<0$, $v>w$, $\\\\nu=0$\", ha=\"center\", va=\"center\", size=18, bbox=bbox_props)\n",
    "    else:\n",
    "      plt.text(-1, 1, \"$\\delta=0$, $v=w$, $\\\\nu=?$\", ha=\"center\", va=\"center\", size=18, bbox=bbox_props)\n",
    "    plt.show()\n",
    "    plt.show()\n",
    "'''\n",
    "interact(\n",
    "    plot_dk,\n",
    "    delta = (-1, 1, .1)\n",
    ")\n",
    "'''\n",
    "\n",
    "interact(plot_dk, delt=FloatSlider(description=u'\\u03B4', min=-1, max=1, value=0))\n",
    "\n",
    "# interact(plot_dk, delt=FloatSlider(description=r'\\(\\delta\\)', min=-1, max=1, value=.1)) # doesn't work\n"
   ]
  },
  {
   "cell_type": "code",
   "execution_count": null,
   "id": "3c343592",
   "metadata": {
    "id": "3c343592"
   },
   "outputs": [],
   "source": []
  },
  {
   "cell_type": "code",
   "execution_count": null,
   "id": "e195199c",
   "metadata": {
    "id": "e195199c"
   },
   "outputs": [],
   "source": []
  },
  {
   "cell_type": "code",
   "execution_count": null,
   "id": "88e027fa",
   "metadata": {
    "id": "88e027fa"
   },
   "outputs": [],
   "source": []
  }
 ],
 "metadata": {
  "colab": {
   "provenance": []
  },
  "kernelspec": {
   "display_name": "Python 3 (ipykernel)",
   "language": "python",
   "name": "python3"
  },
  "language_info": {
   "codemirror_mode": {
    "name": "ipython",
    "version": 3
   },
   "file_extension": ".py",
   "mimetype": "text/x-python",
   "name": "python",
   "nbconvert_exporter": "python",
   "pygments_lexer": "ipython3",
   "version": "3.11.10"
  },
  "widgets": {
   "application/vnd.jupyter.widget-state+json": {
    "153e750fdaa4463d8ae82e6dfad933a6": {
     "model_module": "@jupyter-widgets/base",
     "model_module_version": "1.2.0",
     "model_name": "LayoutModel",
     "state": {
      "_model_module": "@jupyter-widgets/base",
      "_model_module_version": "1.2.0",
      "_model_name": "LayoutModel",
      "_view_count": null,
      "_view_module": "@jupyter-widgets/base",
      "_view_module_version": "1.2.0",
      "_view_name": "LayoutView",
      "align_content": null,
      "align_items": null,
      "align_self": null,
      "border": null,
      "bottom": null,
      "display": null,
      "flex": null,
      "flex_flow": null,
      "grid_area": null,
      "grid_auto_columns": null,
      "grid_auto_flow": null,
      "grid_auto_rows": null,
      "grid_column": null,
      "grid_gap": null,
      "grid_row": null,
      "grid_template_areas": null,
      "grid_template_columns": null,
      "grid_template_rows": null,
      "height": null,
      "justify_content": null,
      "justify_items": null,
      "left": null,
      "margin": null,
      "max_height": null,
      "max_width": null,
      "min_height": null,
      "min_width": null,
      "object_fit": null,
      "object_position": null,
      "order": null,
      "overflow": null,
      "overflow_x": null,
      "overflow_y": null,
      "padding": null,
      "right": null,
      "top": null,
      "visibility": null,
      "width": null
     }
    },
    "3c9367f1820c4cfab04d749801b4f540": {
     "model_module": "@jupyter-widgets/output",
     "model_module_version": "1.0.0",
     "model_name": "OutputModel",
     "state": {
      "_dom_classes": [],
      "_model_module": "@jupyter-widgets/output",
      "_model_module_version": "1.0.0",
      "_model_name": "OutputModel",
      "_view_count": null,
      "_view_module": "@jupyter-widgets/output",
      "_view_module_version": "1.0.0",
      "_view_name": "OutputView",
      "layout": "IPY_MODEL_e8acb4a9fe3a4b2c8b48062f9279245e",
      "msg_id": "",
      "outputs": [
       {
        "data": {
         "image/png": "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\n",
         "text/plain": "<Figure size 640x480 with 1 Axes>"
        },
        "metadata": {},
        "output_type": "display_data"
       }
      ]
     }
    },
    "41ce772465de4f37be5da01739238ef5": {
     "model_module": "@jupyter-widgets/controls",
     "model_module_version": "1.5.0",
     "model_name": "FloatSliderModel",
     "state": {
      "_dom_classes": [],
      "_model_module": "@jupyter-widgets/controls",
      "_model_module_version": "1.5.0",
      "_model_name": "FloatSliderModel",
      "_view_count": null,
      "_view_module": "@jupyter-widgets/controls",
      "_view_module_version": "1.5.0",
      "_view_name": "FloatSliderView",
      "continuous_update": true,
      "description": "δ",
      "description_tooltip": null,
      "disabled": false,
      "layout": "IPY_MODEL_c7c0a8a40fad439d858c5d6cfc3b13ec",
      "max": 1,
      "min": -1,
      "orientation": "horizontal",
      "readout": true,
      "readout_format": ".2f",
      "step": 0.1,
      "style": "IPY_MODEL_7c4578d1e39b474b96c82d5b8bfc7a3b",
      "value": -0.4
     }
    },
    "5d8786c9270645e89d44474d075d5d38": {
     "model_module": "@jupyter-widgets/controls",
     "model_module_version": "1.5.0",
     "model_name": "VBoxModel",
     "state": {
      "_dom_classes": [
       "widget-interact"
      ],
      "_model_module": "@jupyter-widgets/controls",
      "_model_module_version": "1.5.0",
      "_model_name": "VBoxModel",
      "_view_count": null,
      "_view_module": "@jupyter-widgets/controls",
      "_view_module_version": "1.5.0",
      "_view_name": "VBoxView",
      "box_style": "",
      "children": [
       "IPY_MODEL_ff36d5a8b96642bd91162c72b1f7cc31",
       "IPY_MODEL_3c9367f1820c4cfab04d749801b4f540"
      ],
      "layout": "IPY_MODEL_153e750fdaa4463d8ae82e6dfad933a6"
     }
    },
    "65e72a10dcaa4fdea2604909c43e0962": {
     "model_module": "@jupyter-widgets/output",
     "model_module_version": "1.0.0",
     "model_name": "OutputModel",
     "state": {
      "_dom_classes": [],
      "_model_module": "@jupyter-widgets/output",
      "_model_module_version": "1.0.0",
      "_model_name": "OutputModel",
      "_view_count": null,
      "_view_module": "@jupyter-widgets/output",
      "_view_module_version": "1.0.0",
      "_view_name": "OutputView",
      "layout": "IPY_MODEL_8a50769ebaf04c7baa88637d20746618",
      "msg_id": "",
      "outputs": [
       {
        "data": {
         "image/png": "iVBORw0KGgoAAAANSUhEUgAAAi8AAAG+CAYAAABbBuQ/AAAAOXRFWHRTb2Z0d2FyZQBNYXRwbG90bGliIHZlcnNpb24zLjcuMSwgaHR0cHM6Ly9tYXRwbG90bGliLm9yZy/bCgiHAAAACXBIWXMAAA9hAAAPYQGoP6dpAABHFElEQVR4nO3deXhTZd7/8U9a2pQWGijdaYEqKq7goGBRB1AQcGWREcexiIqjDy4Izig/Z2RwmY67joODPii44OCCiOIywyDoqCCKdhAUlM1CoaUsTdpC9/P74zxJ05KUtDRNTnm/ruu+cnJ6knybpskn97nPfWyGYRgCAACwiIhQFwAAANAchBcAAGAphBcAAGAphBcAAGAphBcAAGAphBcAAGAphBcAAGApHUJdQGurq6vTrl271LlzZ9lstlCXAwAAAmAYhkpLS5Wenq6IiKb7VtpdeNm1a5cyMzNDXQYAAGiBHTt2KCMjo8lt2l146dy5syTzl4+Pjw9xNQAAIBAul0uZmZmez/GmtLvw4t5VFB8fT3gBAMBiAhnywYBdAABgKYQXAABgKYQXAABgKYQXAABgKYQXAABgKYQXAABgKYQXAABgKYQXAABgKYQXAABgKYQXAABgKUENL7m5uTr77LPVuXNnJScna/To0dq0adMRb/fmm2+qT58+iomJ0emnn64PPvggmGUCAAALCWp4+eSTTzRlyhStXr1ay5YtU3V1tS666CKVl5f7vc0XX3yhq6++WjfccIO+/fZbjR49WqNHj9b69euDWSoAALAIm2EYRls9WHFxsZKTk/XJJ5/ol7/8pc9trrrqKpWXl2vp0qWedeecc4769eunOXPmHPExXC6XHA6HnE4nJ2YErMAwpKoqqa7OfzOMw9fZbFJk5JFbBHvHAStozud3m55V2ul0SpISEhL8brNq1SpNmzatwboRI0bonXfe8bl9ZWWlKisrPdddLtfRFwpAqqmRnE6ppERyuaSyMqm8vL55X2/8s/JyqbLSDCXel76Wq6uD/7tERkpRUVJMjGS3m5fu5n3de7ljR6lTp4atc+em19ntwf9dALRdeKmrq9PUqVN17rnn6rTTTvO7XWFhoVJSUhqsS0lJUWFhoc/tc3NzNWvWrFatFWg3amqkffukvXvr2759ZiBxBxN3a3y9id27IRERUd9sNrM3prbWbEfi3q6iIrg1duwodekide1af+m93HhdQoKUmGi26Ojg1ga0I20WXqZMmaL169frs88+a9X7nTFjRoOeGpfLpczMzFZ9DCBsHDokFRaarbi4YSjxbu6flZQc/WPGxUnx8WbPQlyc2Y60HBtr9kK4W3R008vR0fW7eBo3m81sTamrqw8o/lp1tdnbU1FR37yvN/7ZwYP1vUqlpeald/Ne5w5Fhw6Zbffu5j/PDocZYpKSGrbG6xITpZQU8zkGjlFtEl5uvfVWLV26VJ9++qkyMjKa3DY1NVVFRUUN1hUVFSk1NdXn9na7XXa6amFltbVm2HCHkqba/+16bRabreE3/ISE+m/+XbqYH5q+lrt0MUNLVFQr/rJB4g46oaq1psYMMyUl0oED/i8br9u/3wyZdXXm39bplLZsCewx4+Ol1FQpLa3py27dGPeDdieo4cUwDN12221avHixVq5cqaysrCPeJjs7W8uXL9fUqVM965YtW6bs7OwgVgoEyaFD0s6d0o4dZvNe3rXLDCR79pgfXoGy280PpZSU+kDibu5v5t6ta1ezVwPB06FD/e6gAN7nGqirM8OMu8fM3Rpf915XUWGOQ3K5pB9/PHJtKSn1YSY9XcrIkLp3Ny/dy/HxR+7hAsJEUMPLlClT9Nprr2nJkiXq3LmzZ9yKw+FQx44dJUk5OTnq3r27cnNzJUl33HGHBg8erMcff1yXXHKJFi5cqK+//lrPP/98MEsFmq+qSiooODyUeLe9ewO7L5tNSk42P1x8NfcHT2oqHzLtTUSE2TvSrZt00klH3t4wzF6e3bvN8NvU5d69Zq9QQYHZmtKp0+GhpvH1xEReewgLQT1U2ubnRT5v3jxdd911kqQhQ4aoV69emj9/vufnb775pv7whz9o+/btOuGEE/TII4/o4osvDugxOVQaraKmxnzz9xdKduyQiorMD5IjiY2VMjPNN//MzPrWvXt9KElKMr8hA62putrs2fMONLt2ma/rnTvNQLNzp9nzE4jo6Pow4750v57dy8nJ7KZCizTn87tN53lpC4QXHFFdnRk8mgomu3cHdhSL3V7/rdQ7mHi3rl35torwVl5eH2Tcl40DTqOxiH5FRZnBpnFgdy9nZJhhnYCDRsJ2nhcg6AzDPBTYXyjZscN8Mw5kbpEOHXy/CXu3pCSCCawvLk468USz+VNVZfbauMOMe3ep9/Lu3eb/1vbtZvMnOrph6PcVcthFhSYQXmAdhmEejdFUMNm5M7C5PCIizF02TQWTlBQGugJu0dFSr15m86e6un63VOOxYO7loiIzCG3dajZ/3L2a/sJNZqZ55BwB55hEeEF4MAzz0NHG3+QaXy8rC+z+UlJ8v9m5W1qaNQ4BBqwkKkrq2dNs/rh7cLwDTeOQU1RkzruzZUvTh4537Hj4btvGgYfdtu0S4QXBZxjmgEBf3czeLdAZXbt1azqYdO/ONO1AuAqkB6eysj7g+As5xcXmVAQ//WQ2f2Jjj9yD43AQcCyG8IKWMwxznondu+vbrl0Nr7v3jx86FNh9duvW8I2m8XJGBjOLAu2d3W7Ol9PUnDkVFQ3H3/jqwdm715wp+ccfm54PJy6u6QHG7oCDsEF4weEqK81vNXv21M/86h1IvENKoKFEMgfg+Qsl7h6T/5v/BwCaFBMjHX+82fw5dKh+LiZ/PTj795u9vhs3ms2fzp3N96q0NHO3dHKyeelu3tfp+Q06DpVu79y9IwcOmP+k3qHE33JpafMeIz7e/Id2t/T0hsvuYBITE5zfEQBa6uDBhruzfYWcQOfBcXM4Dg83SUnmAONu3Q6/dDg4dFwcKt1+1NWZ/1jeJ4HzPhmc01l/vhR/raSkeVPPu3XoUH8iOPfU4o2DibuxGweAVcXGHvkw8fLyhkdLebc9exouV1fXn6eqqbE43iIizIHFCQkNg03XruaXw0DaMXZWcsJLoEpLpX//u/4Mte6z2Pq7dDf3mWoDuWx8Btvy8sBmcA2E3W7+MyQlmd8I3MHE33KXLgxgAwDJHBNz0klHPn2D+6hJX+GmuNjs/d6/35yLyn1ZXm5+buzbZ7aWstvNUzx07Oi/xcY2vB4dbX5Rbdyiog5fFxlZf4Z3m80MTMOHt7zeo0R4CVRBgTR2bGge22YzX5SdOpn7Xd3L8fH1J4M7UmMsCQAEl81W/57bp09gt6ms9B1q9u0ze2/cJ+AsLa1f9m7uozQrK83WVk46qekxQkFGeAlUXJx07rlm915kZOCXMTFmIm7q0r0cF+c7pMTG0gsCAO2R3V6/C74lamvNnnp3wDl06PB28KDv9dXV5nnc3K3xde/1tbVmz5K79ejRus9DMxFeApWZKX32WairAACgXmSkOeD3GDuUm+HNAADAUggvAADAUggvAADAUggvAADAUggvAADAUggvAADAUggvAADAUggvAADAUggvAADAUggvAADAUggvAADAUggvAADAUggvAADAUggvAADAUggvAADAUggvAADAUggvAADAUggvAADAUggvAADAUoIaXj799FNddtllSk9Pl81m0zvvvNPk9itXrpTNZjusFRYWBrNMAABgIUENL+Xl5erbt69mz57drNtt2rRJu3fv9rTk5OQgVQgAAKymQzDvfNSoURo1alSzb5ecnKwuXbq0fkEAAMDywnLMS79+/ZSWlqbhw4fr888/b3LbyspKuVyuBg0AALRfYRVe0tLSNGfOHC1atEiLFi1SZmamhgwZom+++cbvbXJzc+VwODwtMzOzDSsGAABtzWYYhtEmD2SzafHixRo9enSzbjd48GD16NFDr7zyis+fV1ZWqrKy0nPd5XIpMzNTTqdT8fHxR1MyAABoIy6XSw6HI6DP76COeWkNAwYM0Geffeb353a7XXa7vQ0rAgAAoRRWu418ycvLU1paWqjLAAAAYSKoPS9lZWXavHmz5/q2bduUl5enhIQE9ejRQzNmzFBBQYFefvllSdJTTz2lrKwsnXrqqaqoqNDcuXP18ccf61//+lcwywQAABYS1PDy9ddfa+jQoZ7r06ZNkyRNnDhR8+fP1+7du5Wfn+/5eVVVlaZPn66CggLFxsbqjDPO0L///e8G9wEAAI5tbTZgt600Z8APAAAID835/A77MS8AAADeCC8AAMBSCC8AAMBSCC8AAMBSCC8AAMBSCC8AAMBSCC8AAMBSCC8AAMBSCC8AAMBSCC8AAMBSCC8AAMBSCC8AAMBSCC8AAMBSCC8AAMBSCC8AAMBSCC8AAMBSCC8AAMBSCC8AAMBSCC8AAMBSCC8AAMBSCC8AAMBSCC8AAMBSCC8AAMBSCC8AAMBSCC8AAMBSCC8AAMBSCC8AAMBSCC8AAMBSCC8AAMBSCC8AAMBSCC8AAMBSghpePv30U1122WVKT0+XzWbTO++8c8TbrFy5Ur/4xS9kt9vVu3dvzZ8/P5glAgAAiwlqeCkvL1ffvn01e/bsgLbftm2bLrnkEg0dOlR5eXmaOnWqbrzxRv3zn/8MZpkAAMBCOgTzzkeNGqVRo0YFvP2cOXOUlZWlxx9/XJJ08skn67PPPtOTTz6pESNGBKtMAABgIWE15mXVqlUaNmxYg3UjRozQqlWr/N6msrJSLperQQMAAO1XWIWXwsJCpaSkNFiXkpIil8ulQ4cO+bxNbm6uHA6Hp2VmZrZFqQAAIETCKry0xIwZM+R0Oj1tx44doS4JAAAEUVDHvDRXamqqioqKGqwrKipSfHy8Onbs6PM2drtddru9LcoDAABhIKx6XrKzs7V8+fIG65YtW6bs7OwQVQQAAMJNUMNLWVmZ8vLylJeXJ8k8FDovL0/5+fmSzF0+OTk5nu1vvvlmbd26Vb///e+1ceNGPfvss3rjjTd05513BrNMAABgIUENL19//bXOPPNMnXnmmZKkadOm6cwzz9R9990nSdq9e7cnyEhSVlaW3n//fS1btkx9+/bV448/rrlz53KYNAAA8LAZhmGEuojW5HK55HA45HQ6FR8fH+pyAABAAJrz+R1WY14AAACOhPACAAAshfACAAAshfACAAAshfACAAAshfACAAAshfACAAAshfACAAAshfACAAAshfACAAAshfACAAAshfACAAAshfACAAAshfACAAAshfACAAAshfACAAAshfACAAAshfACAAAshfACAAAshfACAAAshfACAAAshfACAAAshfACAAAshfACAAAshfACAAAshfACAAAshfACAAAshfACAAAshfACAAAshfACAAAshfACAAAspU3Cy+zZs9WrVy/FxMRo4MCBWrNmjd9t58+fL5vN1qDFxMS0RZkAAMACgh5eXn/9dU2bNk0zZ87UN998o759+2rEiBHas2eP39vEx8dr9+7dnvbzzz8Hu0wAAGARQQ8vTzzxhCZPnqxJkybplFNO0Zw5cxQbG6sXX3zR721sNptSU1M9LSUlJdhlAgAAiwhqeKmqqtLatWs1bNiw+geMiNCwYcO0atUqv7crKytTz549lZmZqSuuuEIbNmzwu21lZaVcLleDBgAA2q+ghpe9e/eqtrb2sJ6TlJQUFRYW+rzNSSedpBdffFFLlizRq6++qrq6Og0aNEg7d+70uX1ubq4cDoenZWZmtvrvAQAAwkfYHW2UnZ2tnJwc9evXT4MHD9bbb7+tpKQkPffccz63nzFjhpxOp6ft2LGjjSsGAABtqUMw7zwxMVGRkZEqKipqsL6oqEipqakB3UdUVJTOPPNMbd682efP7Xa77Hb7UdcKAACsIag9L9HR0erfv7+WL1/uWVdXV6fly5crOzs7oPuora3Vd999p7S0tGCVCQAALCSoPS+SNG3aNE2cOFFnnXWWBgwYoKeeekrl5eWaNGmSJCknJ0fdu3dXbm6uJOn+++/XOeeco969e6ukpESPPvqofv75Z914443BLhUAAFhA0MPLVVddpeLiYt13330qLCxUv3799NFHH3kG8ebn5ysior4D6MCBA5o8ebIKCwvVtWtX9e/fX1988YVOOeWUYJcKAAAswGYYhhHqIlqTy+WSw+GQ0+lUfHx8qMsBALSx6upq1dbWhrqMY15kZKSioqIC3r45n99B73kBAKAtuFwu7d27V5WVlaEuBf/HbrcrMTGx1TsTCC8AAMtzuVwqKChQp06dlJiYqKioKNlstlCXdcwyDEPV1dVyOp0qKCiQpFYNMIQXAIDl7d27V506dVJGRgahJUx07NhRnTt31s6dO7V3795WDS9hN0kdAADNUV1drcrKSjkcDoJLmLHZbHI4HKqsrFR1dXWr3S/hBQBgae7Buc0ZHIq24/67tOYgasILAKBdoNclPAXj70J4AQAAlkJ4AQAAlkJ4AQAAlkJ4AQAAlkJ4AQCgHZs6dapsNluTLTIyUi6XK9SlBoxJ6mB5hmGopqZGdXV1oS4FQCuKjIxUZGQkRxEdpf/+97+SpEsvvVTdunXzuU0wpvAPJsILLKmiokLFxcUqKirSgQMHZBiG2tk5RoFjnrtXoFu3bkpJSVFiYqLsdnuoy7Icd3iZO3euUlJSQlxN6yC8wFIMw9CmTZuUn5+vmpoadezYUV27dlWHDh0UEcFeUKA9qa2tVU1NjUpKSlRYWKioqChlZWXp+OOPpzcmQPn5+Tpw4IASEhLaTXCRCC+wEMMwtHHjRm3btk1JSUlKSEhQZGRkqMsCEGRJSUmqqanRvn379OOPP0oSASZAeXl5kqSTTz45tIW0MsILLGPz5s3atm2b0tLS1LVr11CXA6ANdejQQSkpKYqMjNSPP/6o6Oho9ejRI9RlhT33LqNTTjklxJW0LvrZYQl1dXUqKChQly5dCC7AMSwxMVGdOnXSjh07GOcWAHfPS3sLL/S8wBIOHDigQ4cOtat9tgBapmvXriooKFBpaemRj5AxDOngwbYprLXExkqttEvM3fNy55136s477/S5zYwZM/TnP/+5VR6vrRBeYAnFxcWKjIxUTExMqEsBEGKdOnWSYRgqLi4+cng5eFDq1KltCmstZWVSXNxR301paam2bt0qm82mnJwcv9tddtllR/1YbY3wAksoKytTTEwMA/QAyGazyW6366DVelTa2Lp162QYhrKysjR//vyjvr8//elPWrlypVauXHnU93W0CC+whOrqao4sAuARGRmpqqqqI28YG2v2ZFhJbGyr3I17vEu/fv1a5f7CCeEFllBXV8c8LgA8IiIiVFtbe+QNbbZW2QVjRe7xLn379g1xJa2P8AIAQDvk7nlpaXipq6trcNqVuro6z+lY3CIiIkLyxZLwgmNCfn6+Xn/9da1evVo///yz5wRk8fHxOu644zR06FBdc801YX9uj507d2r+/PlasWKFdu/erejoaPXs2VMXX3yxcnJy1LFjx1CXCPjEa7dt1dbWav369ZJaHl7uv/9+zZo167D1UVFRnuWJEye2ynia5iK8oN1buHChZs6c6XP/+L59+7Rv3z599dVXSk5O1rhx40JQYWD+/e9/a9q0aSotLfWsO3TokNatW6d169bp9ddf14svvqhevXqFrkjAB167be/HH3/UoUOHJMlnAHE755xzdPPNN/v82U033aRLL73Uc/3555/X2rVr9dxzz3nWJSYmtlLFzUN4Qbv23Xff6d5771VdXZ169eqlnJwcnXzyyYqPj1dVVZX279+vjRs3asmSJWE9ffaGDRt02223qaKiQnFxcbrllluUnZ2tiooKvffee1q4cKG2bdum66+/Xu+++646We3QULRbvHZDwz3eRZJeeuklv9udcMIJfn+Wnp6u9PR0z/WlS5fqxx9/1FlnndU6RR4FwgvatTfffFN1dXWy2+16++23fc7Oe8EFF+i3v/1tWB+GPWvWLFVUVKhDhw56+eWX9Ytf/MLzs0GDBqlXr176y1/+om3btmnu3LmaOnVq6IoFvPDaDY0JEyZowoQJoS4jaDh8A+1acXGxJKmmpkabNm3yu11kZGSbDDqrq6vTZ5995tkXHYi8vDx99dVXkqRf/epXDd783SZPnqzevXtLkubNm6fq6urWKbgNLViwwDMWCe3DsfLaRdsjvKBdGzZsmCRz8NrVV1+tK6+8Uk8//bRWrVqlioqKNqtj69atevTRR3X++efr2muv1caNGwO+7bJlyzzLV155pc9tIiIiNHbsWEmSy+XSqlWrjq5gP8466yxlZWVp4sSJR9x2y5Yt6t27t7KysvTXv/71iNv/4Q9/0IABA3Tbbbdp5cqVgR0G20J33323srKyNHToUJ8/3717t0444QRlZWUpKytL5eXlh21z6NAh9e3bV1lZWXrqqadavcY5c+Z4Ht97F4C3X//618rKytKvfvWrVn/81hBOr120L+w2Qrs2btw4bdy4UXPnzpUkrV27VmvXrpUkde7cWePHj9cdd9wRlKOMXC6Xli5dqkWLFumbb75p8LPm7KJyf3ONjY3V6aef7ne7gQMHepbXrl2rX/7yl82s+MhOPPFErVq1Sps3bz7ito899phqa2uVmJioG2+88Yjb22w2VVZWaunSpVq6dKmSk5M1evRoXXnllU3ul28Jh8MhSX5naH3ppZcaHA7qcrkU12iukCVLlsjlcik6OlrXXHNNq9YnqcF5vIqKinxuc+ONN2rVqlX66quvtGXLFh1//PGtXsfRCKfXLo7en/70p1CX4EHPC9q1efPm6dVXX9Wll16qNWvWaOXKlXr22Wd10UUXqbS0VC+++KLGjh2rffv2tcrj1dbW6pNPPtHtt9+uAQMG6N577/UEl7i4OI0bN04LFizQmDFjAr7PLVu2SJJ69uypDh38f9/w/uAKJFy0xIknnihJ2rVrl8/eCLdvv/1WH330kSTp9ttvV2wAM4Z++umnuvPOOz1HnOzZs0fPP/+8LrroIl1xxRV6+eWXVVJSctS/gyRPWPX1Oxw8eFALFy6UJM+szk6n87DtXnnlFUnSJZdcoqSkpFapy1tqaqpneffu3T63Offccz2viS+++KLVazha4fTaRfvSJj0vs2fP1qOPPqrCwkL17dtXzzzzjAYMGOB3+zfffFN//OMftX37dp1wwgl6+OGHdfHFF7dFqWhHHnvsMc2ePVtXXXWVcnNzPb0dPXv21KhRo/Tss8/q0Ucf1ZYtW/Twww/rkUceafFjbd68WW+99ZbeeeedBt+SIyIiNGjQII0dO1YjR45s9lwWlZWV2r9/vyQpLS2tyW0dDodiY2N18OBBvx92R+ukk07yLP/0009+px13P5e9evXS1VdfHdB9Z2Rk6Pbbb9ftt9+utWvX6u2339b7778vp9PpOaT2oYce0gUXXKBx48ZpyJAhTX4gNsW758UwjAY9YYsWLZLT6dTpp5+uiooK/fTTT4eFl7Vr1+r777+XJE2aNKlFNRxJID0vdrtdPXv21JYtW5oc0+UtKyvrqGt79NFH/e4Gcgu31y7al6D3vLz++uuaNm2aZs6cqW+++UZ9+/bViBEjtGfPHp/bf/HFF7r66qt1ww036Ntvv9Xo0aM1evToZg1wBN59913Nnj1bxx13nO6//36fu2luueUWz0DBDz74oNkDBZ1Op1555RVdccUVGj58uJ577jnPh8xJJ52ke+65R1988YVeeeUVjRkzpkWTcJV5nZMlkN4L92ME64R13uHF/a26sU8++USrV6+WJN11110tChj9+/fXQw89pC+//FKzZ8/WhRdeqKioKFVVVemjjz7S5MmTlZ2drQcffFA//PBDs+/f3fNiGEaD58owDM+EW5MmTfIctts4vLh7Xc4666wmd4ccDe/w0tQHut1ul6RW6z1sLeH22kX7EvSelyeeeEKTJ0/2fDuZM2eO3n//fb344ou65557Dtv+6aef1siRI/W73/1OkvTAAw9o2bJl+tvf/qY5c+YEu1y0Ay6XSzNnzpQk3XrrrYqOjva5nc1m0znnnKPNmzervLxcRUVFysjIOOL9f/zxx3rrrbe0fPnyBhPfJSYm6vLLL9fYsWN16qmntsrvUllZ6Vn2ntXSH/cHWbAGI7t3G0lmz0tjhmF4el3OOOMMXXLJJUf1eHa7XRdffLEuvvhi7d+/X0uWLNHixYv13Xffae/evXrhhRf0wgsv6NRTT9W4ceM0duxYT69KU7y3KS8v94xnWbFihbZu3ark5GRdeumleueddySpweRqe/fu1YcffihJuu66647q92tKXFycOnfurNLSUr89L5I8u9Iaj8nxx70772gcqSdFCr/XLtqXoIaXqqoqrV27VjNmzPCsi4iI0LBhw/yOKF+1apWmTZvWYN2IESM8byKNVVZWNvgn4VBLLFiwQCUlJYqJidGoUaOa3Nb9hikp4J6XG264wbMcExOjYcOGaezYsTr//PNbvBujtepz/y/ExMS0ah1unTp1Unp6unbt2uUzvLz33nue3Sm+vpwcjYSEBE2aNEmTJk3S5s2btWjRIi1ZskS7d+/Whg0btGHDBnXu3PmIuzMkNRigXVZWpuTkZEnSiy++KEn6zW9+o6ioKJ89LwsXLlRVVZXS09M1YsSI1vwVD5OSkqLS0lIVFhb6/Pn27du1a9cuSYFPAe/dexZM4fbaRfsS1N1Ge/fuVW1tbYPuT8n8h/T3z1hYWNis7XNzc+VwODwtMzOzdYqHZbm/Fffr1++Ib4R79+71LHsPkAxUfHy8MjIylJGR0erBRVKD2UYD6U53TwceSDd9S/Xp00fS4QMrq6ur9cQTT0iSBg8erOzs7KDVkJSUpIyMjBb9zaTDe14kadOmTfr8889lt9s9Rw917txZUn14qa2t1T/+8Q9J0rXXXhuUv7k393uhv56XefPmSZI6dOig4cOHB7WW5grH1y7aD8sfKj1jxowGPTUul4sAcwyrrq7Whg0bJDXcxeGPeyxVRkZGwGNScnNztWjRIn399dfas2eP5syZozlz5ui0007TmDFjdPnll7fa+T7sdru6du2qAwcOHHEgo9Pp9HxIBNKt31InnniiPv74Y+3cuVMVFRWegPiPf/xDP//8syIiInT33Xe3+uNWV1drxYoVWrx4sT7++OMGu+xSU1M1evRonX/++QHdl3fPizu8uHtdrrjiCiUkJEjSYT0vy5cv165duxQTE9Mms5e6w8vBgwflcrka1P399997gtTll18ecJALdGBvU9LS0o44vUA4vnbRfgQ1vCQmJioyMvKwbw1FRUV+/9FSU1Obtb3dbm/QPYlj265duzyncD/S4av5+fmeQafnnXdewI/hnnb7559/1ltvvaXFixeroKBA69ev1/r165Wbm6vzzz9fY8aM0fDhw4+6G7x379766quv9PPPP6umpsbvt33vAbTugcjB4A6FdXV12rp1q0455RQdPHhQzzzzjCTzw781zxP17bffavHixVq6dKkOHDjgWR8TE6OLLrrIs8uuOTMkNw4v+/bt05IlSyRJ119//WHbuXdHv/zyy5KkMWPGqEuXLi3+nQLV+HBpdz1lZWWaOnWqqqur5XA4mrWLbuTIkUddVyBHG0nh99pF+xHU3UbR0dHq37+/li9f7llXV1en5cuX++1Szs7ObrC9ZM7SGMwuaLQf3t/GvcdC+eI+YkSSRo8e3ezH6tmzp6ZPn67//Oc/WrBggcaOHavY2FjV1NRoxYoVuv3223X22Wfr97//vVavXi3DMJr9GJJ09tlnSzK/fX/33Xd+t/vyyy89y/3792/RYwWi8eHSkjR37lzt3btX0dHRh41Za4mdO3fqmWee0QUXXKCxY8fqlVde8QSX/v37689//rO+/PJLPf300xo8eHCzT+3g/aWnvLxcCxYsUGVlpc4999wGv593z8uWLVs8c6kEc6CuN+9d6O5d54ZhaNq0afrpp58UGRmpp59+OijzzLSGcHvtov0I+m6jadOmaeLEiTrrrLM0YMAAPfXUUyovL/ccfZSTk6Pu3bsrNzdXknTHHXdo8ODBevzxx3XJJZdo4cKF+vrrr/X8888Hu1S0A95jGZo6vP7HH3/0fIs+88wzG8zw2Vw2m02DBg3SoEGDdP/99+uDDz7QokWLtGbNGpWVlenNN9/Um2++qfT0dI0ePVpjxoxp1rfL4cOH69lnn5UkvfXWWzrzzDMP26aurk5vv/22JLO3IJhh//jjj1eHDh1UU1Ojn376Sfv37/fMYHzttdcGdMSWLy6XSx988IEWL16sr776qkHYS09P15gxY3TllVd6JrE7Wg6HQ3v27NGBAwf06quvSjp8zhb3mBeXy6VXX31VhmHo3HPPDWiXZGvw7nlxh5dHHnnEM+3+/fffr8GDBzfrPrdt29Z6BR5BuL120X4EfZ6Xq666So899pjuu+8+9evXT3l5efroo4883yjy8/Mb7A8dNGiQXnvtNT3//PPq27evZ+Kv0047Ldiloh1ITk72jHn6z3/+4/OcMPn5+brxxhtVVVWl6OhoPfTQQ632+HFxcRo/frwWLlyoTz75RFOnTlWPHj0kmbu0nn32WQ0fPlxLly4N+D779evn+Qb7xhtvHHaqAUn63//9X88A2kmTJvk8NHXChAmec+Xs3LmzJb+epPqJ0SRz0O6zzz6r0tJSde7cWVOmTGnx/Q4YMEAzZszQmjVrZBiGOnbsqNGjR+vVV1/VZ599prvuuqvVgotUv0vojTfeUHFxsXr16qULLrigwTbunpfCwkItWrRIUmCT0rXWc+0+Ckoyd58/9dRTnikjZsyYoV//+tctvu+20FqvXaCxNhmwe+utt+rWW2/1+bOVK1cetm78+PEaP358kKtCe3X99ddr1qxZqq2tVU5Ojm6//Xb1799fVVVV+uyzzzRv3jyVlZUpMjJSTzzxRKuOz/CWmZmpO+64Q7fffrvWrFmjRYsW6cMPP1RZWVmz57KYOXOmrrzySlVUVCgnJ0f/8z//o+zsbFVUVOi9997zDNzMysoK6DxCR+vEE0/Uli1b9M0332jFihWSpJtvvlldu3Zt8X1WVlbKZrPp7LPP1rhx43TJJZcEPHdJS7h76dyHdl933XWHTWbo7nlxB5BevXr5PZljMHj3vCxYsMAzueddd92lm266qc3qOBrh9tpF+2D5o42AxnJycvTtt9/q3Xfflcvl0oMPPnjYNsnJyXryySc1aNCgoNdjs9k0cOBADRw4ULNmzdKHH37o6Y0J1KmnnqpnnnlG06ZNU2lpqR599NHDtsnKytKLL77Y4BBVb+7A5D1/SUuddNJJ+vDDD1VcXCzJHJvhPdC1Je644w6NHTu22c9NS3kP2o2Pj/c5ALXx85STkxPQ+JrWeq6TkpIUGRmp2tpaT3C555579Nvf/rbF99nWWuO1CzRGeEG7ExERoaeffloXXnih3nzzTX3//fcqLS1VfHy8+vTpo2HDhmnChAkhmQyrY8eOGjt2bItuO2zYMH3wwQeaP3++Pv74YxUWFioqKkq9evXSqFGjNHHiRL+He1dWVnqm0W+NI2UaT3R2xx13HPXzOXXq1KO6fXN5h5df/epXPnt53D0v7uVAeoRb87mOjIxUYmKiioqKFBkZqQcffLBNDtFubUfz2gV8sRktPQQiTLlcLjkcDjmdziPOQwDr+PzzzxUREcEcEC20evVqXX311erQoYOWL1/eZr0bxyKe67axY8cO2e12DRgwQBUVFdq2bZuysrKYoTcMBfr3ac7nd9AH7AIIPfehqFdccQUfpkHGcw0EH+EFOAasWbNGkZGRR3U0EALDc41wM3XqVNlstiZbZGSkpc4NyJgX4BiwYMGCUJdwzOC5RrhxTxlx6aWXqlu3bj63SUxMtNRQC8ILAMCSGh/aDt/c4WXu3LmHnfjYqggvsISIiAjPOYsAoK6uTpGRkUfczjCkAE5qHVZiY6XWymX5+fk6cOCAEhIS2k1wkQgvsIjo6GiVlZWFugwAYaKmpiag2XgPHpSsNn1MWZnUWvMz5uXlSVLQJuMMFQbswhLi4+N18ODBFp/cEED7UVdXp6qqqgbz8MA39y6jU045JcSVtC56XmAJSUlJ2rJli8rLy5mFEzjGlZaWKiIiosG5n/yJjTV7MqwkNrb17svd80J4AULA4XAoLi5O+/fvJ7wAxzDDMLR//345HA7FBvApb7O13i4YK3L3vNx555268847fW4zY8YM/fnPf27Lso4a4QWWYLPZ1KtXL23YsEGFhYUNTlgH4NhgGIZ27dqlqqqqdjeGIxhKS0u1detW2Ww25eTk+N3usssua8OqWgfhBZaRmZmp2tpabdy4UTU1NerWrZtiYmI4XBJo5wzD0KFDh1RcXKyKigqddtppfIEJwLp162QYhrKysjR//vxQl9OqCC+wlF69eikiIkJbt27V9u3bFRkZqdjYWHXo0EEREREEGaCdMAxDdXV1qqmpUVlZmQzDUFxcnE4//XSlp6eHujxLcI936devX0jrCAbCCyynR48eysjI0IEDB7Rnzx6VlJSoqqpKtbW1HI0EtBPuKeujo6OVlZWl5ORkdenShS8ozeAe79K3b98QV9L6CC+wpIiICHXr1s3vVNcAcKxz97wQXgAAQNirra3V+vXrJbU8vJSUlKiwsLDJbWJjY0Ny9nTCCwAA7cyPP/6oQ4cOSZJmzZrld7tzzjlHN998s8+fLVy4ULfcckuTjzN48GCtXLmyxXW2FOEFAIB2xj3eRZJeeuklv9udcMIJfn928803+w02oUZ4AQCgnZkwYYImTJgQ6jKChnMbAQAASyG8AAAASyG8AAAASyG8AADaBSapDE/B+LsQXgAAlhYZGSlJqq6uDnEl8MX9d3H/nVoD4QUAYGlRUVGy2+1yOp30voQZwzDkdDplt9sVFRXVavfLodIAAMtLTExUQUGBdu7cKYfDoaioKM6DFEKGYai6ulpOp1NlZWXq3r17q94/4QUAYHnx8fGSpL1796qgoCDE1cDNbrere/funr9PayG8AADahfj4eMXHx6u6ulq1tbWhLueYFxkZ2aq7irwRXgAA7UpUVFTQPjQRHoI6YHf//v265pprFB8fry5duuiGG25QWVlZk7cZMmSIbDZbgxau51YAAABtL6g9L9dcc412796tZcuWqbq6WpMmTdJNN92k1157rcnbTZ48Wffff7/nemxsbDDLBAAAFhK08PLDDz/oo48+0ldffaWzzjpLkvTMM8/o4osv1mOPPab09HS/t42NjVVqamqwSgMAABYWtN1Gq1atUpcuXTzBRZKGDRumiIgIffnll03edsGCBUpMTNRpp52mGTNm6ODBg363rayslMvlatAAAED7FbSel8LCQiUnJzd8sA4dlJCQoMLCQr+3+/Wvf62ePXsqPT1d69at0913361Nmzbp7bff9rl9bm6uZs2a1aq1AwCA8NXs8HLPPffo4YcfbnKbH374ocUF3XTTTZ7l008/XWlpabrwwgu1ZcsWHX/88YdtP2PGDE2bNs1z3eVyKTMzs8WPDwAAwluzw8v06dN13XXXNbnNcccdp9TUVO3Zs6fB+pqaGu3fv79Z41kGDhwoSdq8ebPP8GK322W32wO+PwAAYG3NDi9JSUlKSko64nbZ2dkqKSnR2rVr1b9/f0nSxx9/rLq6Ok8gCUReXp4kKS0trbmlAgCAdihoA3ZPPvlkjRw5UpMnT9aaNWv0+eef69Zbb9WECRM8RxoVFBSoT58+WrNmjSRpy5YteuCBB7R27Vpt375d7777rnJycvTLX/5SZ5xxRrBKBQAAFhLUSeoWLFigPn366MILL9TFF1+s8847T88//7zn59XV1dq0aZPnaKLo6Gj9+9//1kUXXaQ+ffpo+vTpGjdunN57771glgkAACzEZrSz84e7XC45HA45nc5WPxEUAAAIjuZ8fge15wUAAKC1EV4AAIClEF4AAIClEF4AAIClEF4AAIClEF4AAIClEF4AAIClEF4AAIClEF4AAIClEF4AAIClEF4AAIClEF4AAIClEF4AAIClEF4AAIClEF4AAIClEF4AAIClEF4AAIClEF4AAIClEF4AAIClEF4AAIClEF4AAIClEF4AAIClEF4AAIClEF4AAIClEF4AAIClEF4AAIClEF4AAIClEF4AAIClEF4AAIClEF4AAIClEF4AAIClBC28PPTQQxo0aJBiY2PVpUuXgG5jGIbuu+8+paWlqWPHjho2bJh++umnYJUIAAAsKGjhpaqqSuPHj9ctt9wS8G0eeeQR/fWvf9WcOXP05ZdfKi4uTiNGjFBFRUWwygQAABZjMwzDCOYDzJ8/X1OnTlVJSUmT2xmGofT0dE2fPl133XWXJMnpdColJUXz58/XhAkTAno8l8slh8Mhp9Op+Pj4oy0fAAC0geZ8fofNmJdt27apsLBQw4YN86xzOBwaOHCgVq1a5fd2lZWVcrlcDRoAAGi/wia8FBYWSpJSUlIarE9JSfH8zJfc3Fw5HA5Py8zMDGqdAAAgtJoVXu655x7ZbLYm28aNG4NVq08zZsyQ0+n0tB07drTp4wMAgLbVoTkbT58+Xdddd12T2xx33HEtKiQ1NVWSVFRUpLS0NM/6oqIi9evXz+/t7Ha77HZ7ix4TAABYT7PCS1JSkpKSkoJSSFZWllJTU7V8+XJPWHG5XPryyy+bdcQSAABo34I25iU/P195eXnKz89XbW2t8vLylJeXp7KyMs82ffr00eLFiyVJNptNU6dO1YMPPqh3331X3333nXJycpSenq7Ro0cHq0wAAGAxzep5aY777rtPL730kuf6mWeeKUlasWKFhgwZIknatGmTnE6nZ5vf//73Ki8v10033aSSkhKdd955+uijjxQTExOsMgEAgMUEfZ6XtsY8LwAAWI8l53kBAAAIBOEFAABYCuEFAABYCuEFAABYCuEFAABYCuEFAABYCuEFAABYCuEFAABYCuEFAABYCuEFAABYCuEFAABYCuEFAABYCuEFAABYCuEFAABYCuEFAABYCuEFAABYCuEFAABYCuEFAABYCuEFAABYCuEFAABYCuEFAABYCuEFAABYCuEFAABYCuEFAABYCuEFAABYCuEFAABYCuEFAABYCuEFAABYCuEFAABYCuEFAABYCuEFAABYStDCy0MPPaRBgwYpNjZWXbp0Ceg21113nWw2W4M2cuTIYJUIAAAsqEOw7riqqkrjx49Xdna2XnjhhYBvN3LkSM2bN89z3W63B6M8AABgUUELL7NmzZIkzZ8/v1m3s9vtSk1NDUJFAACgPQi7MS8rV65UcnKyTjrpJN1yyy3at29fk9tXVlbK5XI1aAAAoP0Kq/AycuRIvfzyy1q+fLkefvhhffLJJxo1apRqa2v93iY3N1cOh8PTMjMz27BiAADQ1poVXu65557DBtQ2bhs3bmxxMRMmTNDll1+u008/XaNHj9bSpUv11VdfaeXKlX5vM2PGDDmdTk/bsWNHix8fAACEv2aNeZk+fbquu+66Jrc57rjjjqaew+4rMTFRmzdv1oUXXuhzG7vdzqBeAACOIc0KL0lJSUpKSgpWLYfZuXOn9u3bp7S0tDZ7TAAAEN6CNuYlPz9feXl5ys/PV21trfLy8pSXl6eysjLPNn369NHixYslSWVlZfrd736n1atXa/v27Vq+fLmuuOIK9e7dWyNGjAhWmQAAwGKCdqj0fffdp5deeslz/cwzz5QkrVixQkOGDJEkbdq0SU6nU5IUGRmpdevW6aWXXlJJSYnS09N10UUX6YEHHmC3EAAA8LAZhmGEuojW5HK55HA45HQ6FR8fH+pyAABAAJrz+R1Wh0oDAAAcCeEFAABYCuEFAABYCuEFAABYCuEFAABYCuEFAABYCuEFAABYCuEFAABYCuEFAABYCuEFAABYCuEFAABYCuEFAABYCuEFAABYCuEFAABYCuEFAABYCuEFAABYCuEFAABYSodQF2AVW7ZIAwZIERFSZKTZ3Mv+LiMjJbtdiokJ7DIuTurUyWydO/te7tTJvF8AwLGptlYqK5NcLqm01Lx0Lx86dHg7eND3+upqqaamvjW+7r2+tlYyjPp2wgnSqlWhew4ILwGqrpb27w91FaaOHc0QEx8vde0aeEtIMG9js4X6NwCAY9vBg+Znyr599Zfey/v3SyUlDYOJe7msLNTVS4mJoX18wkuAsrKkH34w02dtrVRX1/Rlba2ZWKuqpIoKqbKy6cuKCvPFXFZmvki9L93LtbVmLe7UXFzc/N8jOlpKSqpvyclNLxN2AKBphiGVl0tFRWbbs+fw5eLihsGkouLoH7dDB8nhMN+n4+PNL7UdO5otNrZ+uXFz/yw62ryPxi0q6vB1kZHmZ4G72e1HX/9R/e6hfXjrsNulPn1C9/iGYQYd70DjdEoHDgTeKirMMFVQYLZAREebQSYtzWzp6fXL3i052XyBA0B7UVdnho4dO6SdO81WWOg7pBw61Pz779BB6tbN7BV3X3ovd+nSMJzEx5vDCNzLdvux++WSjxuLsNnMsTExMWaPSEscPCjt3Wv+wxUXm83fcnGxGZCqqur/aZsSEWHW1TjgpKdLmZlSRobZunU7dv/ZAIQPwzDfD3fsqA8n3pc7dphf8qqqAr/P2FgpJcVsycn1yykp5m6Wbt0ahpVOnXg/bCnCyzEkNlbq0cNsgXDvmioslHbvbth27apfLioyv6G4v4Hk5fm/z5iY+iDjHWq8rycm8g8NoOUMw9w94x1EGi/v3Gn2Zh+JzSalpta/P6Wl+Q4nyclmGEHbILzAr44dAws7tbVmyGkcanbvNr+5uN8o9uwxd11t3mw2f+x236HGvZyZScABjlWGYe4G9xVIvJcDHVOSmtrwfcb9HuNeTk83x4AgvNgMwzBCXURrcrlccjgccjqdio+PD3U58FJRYYYbd5jx/gbkXi4qCuy+Gvfg+GpduhBwACsxDPMIG1+7cLzXHTwY2P0lJzcMIo3DSffu5rg+hIfmfH7T84I2ExMjHXec2fypqjIDjq9g474sLAysBycurulwk5lpDn4D0DacTv/jS9zL5eWB3VdS0pF7TGJigvv7IHQILwgr0dFSr15m88d9xJT7Tc9X27fPfBPctMls/jgch7/5ebeMDHOsEICmlZb634XjviwtDey+unVrusckI4NgcqwjvMByoqPNeXeysvxvc+hQwzdQX83prG/r1/u/r27dmu7B6d499HMeAMFiGOb/iLsn1Hscm3c4cbkCu7+uXQ/vJfFe7t6dLww4MsIL2qWOHc3pq084wf82paVHDjjl5fUzX/73v/7vKyWl6YCTns48OAg/7nlMGoeSxtcDHWPSpcuRe0zi4oL6K+EYwYBdwI/Ggwd9tUCPaoiIqD/c0vvNPDW1vqWlMcgYrcMwzFlcd++un+rAfek9aH7XLvPUJ4FISGh4FGD37oeHEw4VxtFozuc34QU4Ct4TXfkLOQUFgX9AREc3DDTewcb7ekqK2buEY4dhmD0gxcXmUXm+gon7sqgo8Necex4TdxhpHE7cy7zeEGxhcbTR9u3b9cADD+jjjz9WYWGh0tPT9Zvf/Eb33nuvops4Nq2iokLTp0/XwoULVVlZqREjRujZZ59VSkpKsEoFWsxmqz8f1C9+4Xsb9wR+jQPOrl3mh437A6ekxByMnJ9vtiPp3Nmc78a7JSUdvs7dEhI4I3k4qasz/+buGa337m04w3Xj68XFzT8fTrduhwfgtLSGhwqnpTGPCawnaOFl48aNqqur03PPPafevXtr/fr1mjx5ssrLy/XYY4/5vd2dd96p999/X2+++aYcDoduvfVWjR07Vp9//nmwSgWCKiKi/nQJAwb4366iwgw57kDjr+3eXX+eq9JSadu2wOqw2czBkt26mbun3M3h8L3sfT0+3hyrwLgdk2GYQbPxyVPd5xErKfF96b3scpn301x2u9nz5t0b5x1M3JfJyQwkR/vVpruNHn30Uf3973/X1q1bff7c6XQqKSlJr732mq688kpJZgg6+eSTtWrVKp1zzjlHfAx2G6G9cx/94f527qs1/tmBA63z2Ha7GWI6dTIv/S3Hxprbult0dNPL0dFmr1BExOHNZvO93vsM7oG06uqGZ3H3tey97tChw8/u7n29pqZ1ntP4+PreO3fvmXdrvC4ujnFRaJ/CYreRL06nUwkJCX5/vnbtWlVXV2vYsGGedX369FGPHj38hpfKykpVep2gwhXo8XqARdls9T0jTR1N5a2mxhzA6Q4z7kPES0rqm7/rBw7Uf1BXVppt//5W/7UsKybG3IXXqZP5N+na1Wy+ln2tY4ZXoPnaLLxs3rxZzzzzTJO7jAoLCxUdHa0uXbo0WJ+SkqLCwkKft8nNzdWsWbNas1Sg3enQwdyNkJzc/NsahtkTUV7esJWV+V52t8pKc9eK96W/5aoqsyfFXzOMhtdra83el8jIhs3XOnfr0MEcdGq315+hPSam4fXGP3OHkk6dfC+zKw0IjWb/291zzz16+OGHm9zmhx9+UJ8+fTzXCwoKNHLkSI0fP16TJ09ufpVNmDFjhqZNm+a57nK5lJmZ2aqPARzLbDbzQ79jR3MXBgCEWrPDy/Tp03Xdddc1uc1xXiev2bVrl4YOHapBgwbp+eefb/J2qampqqqqUklJSYPel6KiIqWmpvq8jd1ul51RaQAAHDOaHV6SkpKUlJQU0LYFBQUaOnSo+vfvr3nz5ikiIqLJ7fv376+oqCgtX75c48aNkyRt2rRJ+fn5ys7Obm6pAACgHWo6TRyFgoICDRkyRD169NBjjz2m4uJiFRYWNhi7UlBQoD59+mjNmjWSJIfDoRtuuEHTpk3TihUrtHbtWk2aNEnZ2dkBHWkEAADav6ANNVu2bJk2b96szZs3KyMjo8HP3EdnV1dXa9OmTTrodeKMJ598UhERERo3blyDSeoAAAAkTg8AAADCQHM+v4O22wgAACAYCC8AAMBSCC8AAMBSCC8AAMBSCC8AAMBSCC8AAMBSCC8AAMBSCC8AAMBSCC8AAMBSgnZ6gFBxTxjscrlCXAkAAAiU+3M7kIn/2114KS0tlSRlZmaGuBIAANBcpaWlcjgcTW7T7s5tVFdXp127dqlz586y2WwhqcHlcikzM1M7duzg/Eo+8Pw0jefHP56bpvH8NI3np2mhfn4Mw1BpaanS09MVEdH0qJZ21/MSERFx2FmsQyU+Pp5/kCbw/DSN58c/npum8fw0jeenaaF8fo7U4+LGgF0AAGAphBcAAGAphJcgsNvtmjlzpux2e6hLCUs8P03j+fGP56ZpPD9N4/lpmpWen3Y3YBcAALRv9LwAAABLIbwAAABLIbwAAABLIbwAAABLIbwE2eWXX64ePXooJiZGaWlpuvbaa7Vr165QlxUWtm/frhtuuEFZWVnq2LGjjj/+eM2cOVNVVVWhLi1sPPTQQxo0aJBiY2PVpUuXUJcTcrNnz1avXr0UExOjgQMHas2aNaEuKSx8+umnuuyyy5Seni6bzaZ33nkn1CWFldzcXJ199tnq3LmzkpOTNXr0aG3atCnUZYWNv//97zrjjDM8k9NlZ2frww8/DHVZTSK8BNnQoUP1xhtvaNOmTVq0aJG2bNmiK6+8MtRlhYWNGzeqrq5Ozz33nDZs2KAnn3xSc+bM0f/7f/8v1KWFjaqqKo0fP1633HJLqEsJuddff13Tpk3TzJkz9c0336hv374aMWKE9uzZE+rSQq68vFx9+/bV7NmzQ11KWPrkk080ZcoUrV69WsuWLVN1dbUuuugilZeXh7q0sJCRkaG//OUvWrt2rb7++mtdcMEFuuKKK7Rhw4ZQl+afgTa1ZMkSw2azGVVVVaEuJSw98sgjRlZWVqjLCDvz5s0zHA5HqMsIqQEDBhhTpkzxXK+trTXS09ON3NzcEFYVfiQZixcvDnUZYW3Pnj2GJOOTTz4JdSlhq2vXrsbcuXNDXYZf9Ly0of3792vBggUaNGiQoqKiQl1OWHI6nUpISAh1GQgzVVVVWrt2rYYNG+ZZFxERoWHDhmnVqlUhrAxW5HQ6JYn3Gh9qa2u1cOFClZeXKzs7O9Tl+EV4aQN333234uLi1K1bN+Xn52vJkiWhLiksbd68Wc8884x++9vfhroUhJm9e/eqtrZWKSkpDdanpKSosLAwRFXBiurq6jR16lSde+65Ou2000JdTtj47rvv1KlTJ9ntdt18881avHixTjnllFCX5RfhpQXuuece2Wy2JtvGjRs92//ud7/Tt99+q3/961+KjIxUTk6OjHY8sXFznx9JKigo0MiRIzV+/HhNnjw5RJW3jZY8PwBax5QpU7R+/XotXLgw1KWElZNOOkl5eXn68ssvdcstt2jixIn6/vvvQ12WX5weoAWKi4u1b9++Jrc57rjjFB0dfdj6nTt3KjMzU1988UVYd8kdjeY+P7t27dKQIUN0zjnnaP78+YqIaN+ZuiWvn/nz52vq1KkqKSkJcnXhqaqqSrGxsXrrrbc0evRoz/qJEyeqpKSE3kwvNptNixcvbvA8wXTrrbdqyZIl+vTTT5WVlRXqcsLasGHDdPzxx+u5554LdSk+dQh1AVaUlJSkpKSkFt22rq5OklRZWdmaJYWV5jw/BQUFGjp0qPr376958+a1++AiHd3r51gVHR2t/v37a/ny5Z4P5bq6Oi1fvly33npraItD2DMMQ7fddpsWL16slStXElwCUFdXF9afU4SXIPryyy/11Vdf6bzzzlPXrl21ZcsW/fGPf9Txxx/fbntdmqOgoEBDhgxRz5499dhjj6m4uNjzs9TU1BBWFj7y8/O1f/9+5efnq7a2Vnl5eZKk3r17q1OnTqEtro1NmzZNEydO1FlnnaUBAwboqaeeUnl5uSZNmhTq0kKurKxMmzdv9lzftm2b8vLylJCQoB49eoSwsvAwZcoUvfbaa1qyZIk6d+7sGSflcDjUsWPHEFcXejNmzNCoUaPUo0cPlZaW6rXXXtPKlSv1z3/+M9Sl+Rfag53at3Xr1hlDhw41EhISDLvdbvTq1cu4+eabjZ07d4a6tLAwb948Q5LPBtPEiRN9Pj8rVqwIdWkh8cwzzxg9evQwoqOjjQEDBhirV68OdUlhYcWKFT5fJxMnTgx1aWHB3/vMvHnzQl1aWLj++uuNnj17GtHR0UZSUpJx4YUXGv/6179CXVaTGPMCAAAspf0PMAAAAO0K4QUAAFgK4QUAAFgK4QUAAFgK4QUAAFgK4QUAAFgK4QUAAFgK4QUAAFgK4QVAWKuoqFBUVJRsNpseeuihUJcDIAwQXgCEtfXr16umpkaS1K9fv9AWAyAsEF4AhLX//ve/nmXCCwCJ8AIgzLnPpJ2UlKTu3buHthgAYYHwAiCsucNL3759Q1sIgLBBeAEQtgzD0Lp16ySxywhAPcILgLC1bds2uVwuSf7Dy86dOzVw4EDZbDbFxMTohRdeaMMKAYRCh1AXAAD+uHcZSb7Dy4oVK3TVVVepuLhY6enpevvttzVw4MC2KxBASNDzAiBsuY80iomJUZ8+fRr87PHHH9fw4cNVXFysQYMGae3atQQX4BhBeAEQttw9L6eddpoiIyMlSeXl5brqqqt01113qba2VjfddJNWrFih1NTUEFYKoC2x2whA2HL3vLh3Gf30008aM2aMNmzYoOjoaP3tb3/T5MmTQ1ghgFCwGYZhhLoIAGispKREXbt2lST97W9/U2ZmpnJycuR0OpWWlqZFixYpOzs7xFUCCAV6XgCEJe/Buu+//74++ugjGYah7OxsLVq0SGlpaaErDkBIEV4AhCXv0wJ8+OGHkqThw4dr6dKlio6ODlVZAMIAA3YBhCV3z0tWVpb69+8vSfriiy/0ww8/hLAqAOGA8AIgLLnDy9lnn60lS5YoLS1N5eXluvzyy1VUVBTa4gCEFOEFQNiprq7W999/L8k8p1H37t21ZMkSxcTEKD8/X6NHj1ZlZWWIqwQQKoQXAGHnhx9+UFVVlaT6EzKeffbZevHFFyVJq1ev1g033BCy+gCEFuEFQNjxPtLI+2zSV199te69915J0oIFC/TQQw+1dWkAwgDhBUDYcR9plJCQoIyMjAY/e+CBBzRmzBhJ0h//+Ee9/fbbbV4fgNAivAAIO+6eF+9eFzebzaZXXnlF/fr1k2EYuvbaa/Xtt9+2cYUAQonwAiDsuHtefIUXSYqLi9OSJUuUkpKigwcP6vLLL9fu3bvbskQAIcTpAQAAgKXQ8wIAACyF8AIAACyF8AIAACyF8AIAACyF8AIAACyF8AIAACyF8AIAACyF8AIAACyF8AIAACyF8AIAACyF8AIAACyF8AIAACyF8AIAACyF8AIAACzl/wMhBo9TgvGWigAAAABJRU5ErkJggg==\n",
         "text/plain": "<Figure size 640x480 with 1 Axes>"
        },
        "metadata": {},
        "output_type": "display_data"
       }
      ]
     }
    },
    "706bf97c452849e8bc625cf7ab29dadf": {
     "model_module": "@jupyter-widgets/base",
     "model_module_version": "1.2.0",
     "model_name": "LayoutModel",
     "state": {
      "_model_module": "@jupyter-widgets/base",
      "_model_module_version": "1.2.0",
      "_model_name": "LayoutModel",
      "_view_count": null,
      "_view_module": "@jupyter-widgets/base",
      "_view_module_version": "1.2.0",
      "_view_name": "LayoutView",
      "align_content": null,
      "align_items": null,
      "align_self": null,
      "border": null,
      "bottom": null,
      "display": null,
      "flex": null,
      "flex_flow": null,
      "grid_area": null,
      "grid_auto_columns": null,
      "grid_auto_flow": null,
      "grid_auto_rows": null,
      "grid_column": null,
      "grid_gap": null,
      "grid_row": null,
      "grid_template_areas": null,
      "grid_template_columns": null,
      "grid_template_rows": null,
      "height": null,
      "justify_content": null,
      "justify_items": null,
      "left": null,
      "margin": null,
      "max_height": null,
      "max_width": null,
      "min_height": null,
      "min_width": null,
      "object_fit": null,
      "object_position": null,
      "order": null,
      "overflow": null,
      "overflow_x": null,
      "overflow_y": null,
      "padding": null,
      "right": null,
      "top": null,
      "visibility": null,
      "width": null
     }
    },
    "7c4578d1e39b474b96c82d5b8bfc7a3b": {
     "model_module": "@jupyter-widgets/controls",
     "model_module_version": "1.5.0",
     "model_name": "SliderStyleModel",
     "state": {
      "_model_module": "@jupyter-widgets/controls",
      "_model_module_version": "1.5.0",
      "_model_name": "SliderStyleModel",
      "_view_count": null,
      "_view_module": "@jupyter-widgets/base",
      "_view_module_version": "1.2.0",
      "_view_name": "StyleView",
      "description_width": "",
      "handle_color": null
     }
    },
    "8a50769ebaf04c7baa88637d20746618": {
     "model_module": "@jupyter-widgets/base",
     "model_module_version": "1.2.0",
     "model_name": "LayoutModel",
     "state": {
      "_model_module": "@jupyter-widgets/base",
      "_model_module_version": "1.2.0",
      "_model_name": "LayoutModel",
      "_view_count": null,
      "_view_module": "@jupyter-widgets/base",
      "_view_module_version": "1.2.0",
      "_view_name": "LayoutView",
      "align_content": null,
      "align_items": null,
      "align_self": null,
      "border": null,
      "bottom": null,
      "display": null,
      "flex": null,
      "flex_flow": null,
      "grid_area": null,
      "grid_auto_columns": null,
      "grid_auto_flow": null,
      "grid_auto_rows": null,
      "grid_column": null,
      "grid_gap": null,
      "grid_row": null,
      "grid_template_areas": null,
      "grid_template_columns": null,
      "grid_template_rows": null,
      "height": null,
      "justify_content": null,
      "justify_items": null,
      "left": null,
      "margin": null,
      "max_height": null,
      "max_width": null,
      "min_height": null,
      "min_width": null,
      "object_fit": null,
      "object_position": null,
      "order": null,
      "overflow": null,
      "overflow_x": null,
      "overflow_y": null,
      "padding": null,
      "right": null,
      "top": null,
      "visibility": null,
      "width": null
     }
    },
    "aabae7e18a7a4c23bfe4edbac6eeb0f8": {
     "model_module": "@jupyter-widgets/controls",
     "model_module_version": "1.5.0",
     "model_name": "VBoxModel",
     "state": {
      "_dom_classes": [
       "widget-interact"
      ],
      "_model_module": "@jupyter-widgets/controls",
      "_model_module_version": "1.5.0",
      "_model_name": "VBoxModel",
      "_view_count": null,
      "_view_module": "@jupyter-widgets/controls",
      "_view_module_version": "1.5.0",
      "_view_name": "VBoxView",
      "box_style": "",
      "children": [
       "IPY_MODEL_41ce772465de4f37be5da01739238ef5",
       "IPY_MODEL_65e72a10dcaa4fdea2604909c43e0962"
      ],
      "layout": "IPY_MODEL_c5951bc97c65494c9e6b2eb67d7430ff"
     }
    },
    "c5951bc97c65494c9e6b2eb67d7430ff": {
     "model_module": "@jupyter-widgets/base",
     "model_module_version": "1.2.0",
     "model_name": "LayoutModel",
     "state": {
      "_model_module": "@jupyter-widgets/base",
      "_model_module_version": "1.2.0",
      "_model_name": "LayoutModel",
      "_view_count": null,
      "_view_module": "@jupyter-widgets/base",
      "_view_module_version": "1.2.0",
      "_view_name": "LayoutView",
      "align_content": null,
      "align_items": null,
      "align_self": null,
      "border": null,
      "bottom": null,
      "display": null,
      "flex": null,
      "flex_flow": null,
      "grid_area": null,
      "grid_auto_columns": null,
      "grid_auto_flow": null,
      "grid_auto_rows": null,
      "grid_column": null,
      "grid_gap": null,
      "grid_row": null,
      "grid_template_areas": null,
      "grid_template_columns": null,
      "grid_template_rows": null,
      "height": null,
      "justify_content": null,
      "justify_items": null,
      "left": null,
      "margin": null,
      "max_height": null,
      "max_width": null,
      "min_height": null,
      "min_width": null,
      "object_fit": null,
      "object_position": null,
      "order": null,
      "overflow": null,
      "overflow_x": null,
      "overflow_y": null,
      "padding": null,
      "right": null,
      "top": null,
      "visibility": null,
      "width": null
     }
    },
    "c7c0a8a40fad439d858c5d6cfc3b13ec": {
     "model_module": "@jupyter-widgets/base",
     "model_module_version": "1.2.0",
     "model_name": "LayoutModel",
     "state": {
      "_model_module": "@jupyter-widgets/base",
      "_model_module_version": "1.2.0",
      "_model_name": "LayoutModel",
      "_view_count": null,
      "_view_module": "@jupyter-widgets/base",
      "_view_module_version": "1.2.0",
      "_view_name": "LayoutView",
      "align_content": null,
      "align_items": null,
      "align_self": null,
      "border": null,
      "bottom": null,
      "display": null,
      "flex": null,
      "flex_flow": null,
      "grid_area": null,
      "grid_auto_columns": null,
      "grid_auto_flow": null,
      "grid_auto_rows": null,
      "grid_column": null,
      "grid_gap": null,
      "grid_row": null,
      "grid_template_areas": null,
      "grid_template_columns": null,
      "grid_template_rows": null,
      "height": null,
      "justify_content": null,
      "justify_items": null,
      "left": null,
      "margin": null,
      "max_height": null,
      "max_width": null,
      "min_height": null,
      "min_width": null,
      "object_fit": null,
      "object_position": null,
      "order": null,
      "overflow": null,
      "overflow_x": null,
      "overflow_y": null,
      "padding": null,
      "right": null,
      "top": null,
      "visibility": null,
      "width": null
     }
    },
    "d3a0bff2c2bc45b89c22808992b1953f": {
     "model_module": "@jupyter-widgets/controls",
     "model_module_version": "1.5.0",
     "model_name": "SliderStyleModel",
     "state": {
      "_model_module": "@jupyter-widgets/controls",
      "_model_module_version": "1.5.0",
      "_model_name": "SliderStyleModel",
      "_view_count": null,
      "_view_module": "@jupyter-widgets/base",
      "_view_module_version": "1.2.0",
      "_view_name": "StyleView",
      "description_width": "",
      "handle_color": null
     }
    },
    "e8acb4a9fe3a4b2c8b48062f9279245e": {
     "model_module": "@jupyter-widgets/base",
     "model_module_version": "1.2.0",
     "model_name": "LayoutModel",
     "state": {
      "_model_module": "@jupyter-widgets/base",
      "_model_module_version": "1.2.0",
      "_model_name": "LayoutModel",
      "_view_count": null,
      "_view_module": "@jupyter-widgets/base",
      "_view_module_version": "1.2.0",
      "_view_name": "LayoutView",
      "align_content": null,
      "align_items": null,
      "align_self": null,
      "border": null,
      "bottom": null,
      "display": null,
      "flex": null,
      "flex_flow": null,
      "grid_area": null,
      "grid_auto_columns": null,
      "grid_auto_flow": null,
      "grid_auto_rows": null,
      "grid_column": null,
      "grid_gap": null,
      "grid_row": null,
      "grid_template_areas": null,
      "grid_template_columns": null,
      "grid_template_rows": null,
      "height": null,
      "justify_content": null,
      "justify_items": null,
      "left": null,
      "margin": null,
      "max_height": null,
      "max_width": null,
      "min_height": null,
      "min_width": null,
      "object_fit": null,
      "object_position": null,
      "order": null,
      "overflow": null,
      "overflow_x": null,
      "overflow_y": null,
      "padding": null,
      "right": null,
      "top": null,
      "visibility": null,
      "width": null
     }
    },
    "ff36d5a8b96642bd91162c72b1f7cc31": {
     "model_module": "@jupyter-widgets/controls",
     "model_module_version": "1.5.0",
     "model_name": "FloatSliderModel",
     "state": {
      "_dom_classes": [],
      "_model_module": "@jupyter-widgets/controls",
      "_model_module_version": "1.5.0",
      "_model_name": "FloatSliderModel",
      "_view_count": null,
      "_view_module": "@jupyter-widgets/controls",
      "_view_module_version": "1.5.0",
      "_view_name": "FloatSliderView",
      "continuous_update": true,
      "description": "δ",
      "description_tooltip": null,
      "disabled": false,
      "layout": "IPY_MODEL_706bf97c452849e8bc625cf7ab29dadf",
      "max": 1,
      "min": -1,
      "orientation": "horizontal",
      "readout": true,
      "readout_format": ".2f",
      "step": 0.1,
      "style": "IPY_MODEL_d3a0bff2c2bc45b89c22808992b1953f",
      "value": 0
     }
    }
   }
  }
 },
 "nbformat": 4,
 "nbformat_minor": 5
}
